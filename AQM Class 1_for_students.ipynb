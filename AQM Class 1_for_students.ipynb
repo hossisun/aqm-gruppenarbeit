{
 "cells": [
  {
   "cell_type": "code",
   "execution_count": 1,
   "metadata": {},
   "outputs": [],
   "source": [
    "import math\n",
    "import pandas as pd\n",
    "import numpy as np\n",
    "import matplotlib.pyplot as plt\n",
    "import scipy as sp\n",
    "from statsmodels import regression\n",
    "import statsmodels.api as sm\n",
    "import xlsxwriter"
   ]
  },
  {
   "cell_type": "code",
   "execution_count": null,
   "metadata": {},
   "outputs": [],
   "source": []
  },
  {
   "cell_type": "code",
   "execution_count": null,
   "metadata": {},
   "outputs": [],
   "source": []
  },
  {
   "cell_type": "markdown",
   "metadata": {},
   "source": [
    "# Data Processing"
   ]
  },
  {
   "cell_type": "code",
   "execution_count": 2,
   "metadata": {},
   "outputs": [],
   "source": [
    "data = pd.read_excel(\"Four_Centuries_Consolidated_Data.xlsx\", index_col=0,skiprows=1)"
   ]
  },
  {
   "cell_type": "code",
   "execution_count": 3,
   "metadata": {},
   "outputs": [
    {
     "data": {
      "text/html": [
       "<div>\n",
       "<style scoped>\n",
       "    .dataframe tbody tr th:only-of-type {\n",
       "        vertical-align: middle;\n",
       "    }\n",
       "\n",
       "    .dataframe tbody tr th {\n",
       "        vertical-align: top;\n",
       "    }\n",
       "\n",
       "    .dataframe thead th {\n",
       "        text-align: right;\n",
       "    }\n",
       "</style>\n",
       "<table border=\"1\" class=\"dataframe\">\n",
       "  <thead>\n",
       "    <tr style=\"text-align: right;\">\n",
       "      <th></th>\n",
       "      <th>Price_Nominal</th>\n",
       "      <th>Dividend_Nominal</th>\n",
       "      <th>Price_Real</th>\n",
       "      <th>Dividend_Real</th>\n",
       "      <th>CPI</th>\n",
       "      <th>Recession</th>\n",
       "      <th>Div_Earnings</th>\n",
       "      <th>Risk_free_r</th>\n",
       "      <th>Country</th>\n",
       "      <th>Price_Nominal_Normalized</th>\n",
       "      <th>Price_Real_Normalized</th>\n",
       "    </tr>\n",
       "    <tr>\n",
       "      <th>Year</th>\n",
       "      <th></th>\n",
       "      <th></th>\n",
       "      <th></th>\n",
       "      <th></th>\n",
       "      <th></th>\n",
       "      <th></th>\n",
       "      <th></th>\n",
       "      <th></th>\n",
       "      <th></th>\n",
       "      <th></th>\n",
       "      <th></th>\n",
       "    </tr>\n",
       "  </thead>\n",
       "  <tbody>\n",
       "    <tr>\n",
       "      <th>2006</th>\n",
       "      <td>1418.300000</td>\n",
       "      <td>24.881000</td>\n",
       "      <td>1662.355835</td>\n",
       "      <td>29.162431</td>\n",
       "      <td>201.800</td>\n",
       "      <td>0</td>\n",
       "      <td>0.411169</td>\n",
       "      <td>0.040611</td>\n",
       "      <td>US</td>\n",
       "      <td>405915.079287</td>\n",
       "      <td>405915.079287</td>\n",
       "    </tr>\n",
       "    <tr>\n",
       "      <th>2007</th>\n",
       "      <td>1468.355200</td>\n",
       "      <td>27.731000</td>\n",
       "      <td>1653.538982</td>\n",
       "      <td>31.228336</td>\n",
       "      <td>210.036</td>\n",
       "      <td>0</td>\n",
       "      <td>0.409767</td>\n",
       "      <td>0.040611</td>\n",
       "      <td>US</td>\n",
       "      <td>420240.793506</td>\n",
       "      <td>420240.793506</td>\n",
       "    </tr>\n",
       "    <tr>\n",
       "      <th>2008</th>\n",
       "      <td>903.250000</td>\n",
       "      <td>28.387000</td>\n",
       "      <td>1016.235736</td>\n",
       "      <td>31.937873</td>\n",
       "      <td>210.228</td>\n",
       "      <td>1</td>\n",
       "      <td>0.438638</td>\n",
       "      <td>0.040611</td>\n",
       "      <td>US</td>\n",
       "      <td>258508.633834</td>\n",
       "      <td>258508.633834</td>\n",
       "    </tr>\n",
       "    <tr>\n",
       "      <th>2009</th>\n",
       "      <td>1115.100000</td>\n",
       "      <td>22.407291</td>\n",
       "      <td>1221.348686</td>\n",
       "      <td>24.542297</td>\n",
       "      <td>215.949</td>\n",
       "      <td>1</td>\n",
       "      <td>0.437428</td>\n",
       "      <td>0.040611</td>\n",
       "      <td>US</td>\n",
       "      <td>319139.748229</td>\n",
       "      <td>319139.748229</td>\n",
       "    </tr>\n",
       "    <tr>\n",
       "      <th>2010</th>\n",
       "      <td>1257.640000</td>\n",
       "      <td>22.730000</td>\n",
       "      <td>1357.170628</td>\n",
       "      <td>24.528870</td>\n",
       "      <td>219.179</td>\n",
       "      <td>0</td>\n",
       "      <td>0.421240</td>\n",
       "      <td>0.040611</td>\n",
       "      <td>US</td>\n",
       "      <td>359934.456966</td>\n",
       "      <td>359934.456966</td>\n",
       "    </tr>\n",
       "    <tr>\n",
       "      <th>2011</th>\n",
       "      <td>1257.600000</td>\n",
       "      <td>26.425000</td>\n",
       "      <td>1318.080400</td>\n",
       "      <td>27.695829</td>\n",
       "      <td>225.672</td>\n",
       "      <td>0</td>\n",
       "      <td>0.404335</td>\n",
       "      <td>0.040611</td>\n",
       "      <td>US</td>\n",
       "      <td>359923.009033</td>\n",
       "      <td>359923.009033</td>\n",
       "    </tr>\n",
       "    <tr>\n",
       "      <th>2012</th>\n",
       "      <td>1426.190000</td>\n",
       "      <td>31.247000</td>\n",
       "      <td>1469.199131</td>\n",
       "      <td>32.189305</td>\n",
       "      <td>229.601</td>\n",
       "      <td>0</td>\n",
       "      <td>0.395896</td>\n",
       "      <td>0.040611</td>\n",
       "      <td>US</td>\n",
       "      <td>408173.184043</td>\n",
       "      <td>408173.184043</td>\n",
       "    </tr>\n",
       "    <tr>\n",
       "      <th>2013</th>\n",
       "      <td>1848.360000</td>\n",
       "      <td>34.990000</td>\n",
       "      <td>1875.928878</td>\n",
       "      <td>35.511887</td>\n",
       "      <td>233.049</td>\n",
       "      <td>0</td>\n",
       "      <td>0.387888</td>\n",
       "      <td>0.040611</td>\n",
       "      <td>US</td>\n",
       "      <td>528997.529402</td>\n",
       "      <td>528997.529402</td>\n",
       "    </tr>\n",
       "    <tr>\n",
       "      <th>2014</th>\n",
       "      <td>2058.900000</td>\n",
       "      <td>39.440000</td>\n",
       "      <td>2073.920083</td>\n",
       "      <td>39.727723</td>\n",
       "      <td>234.812</td>\n",
       "      <td>0</td>\n",
       "      <td>0.386529</td>\n",
       "      <td>0.040611</td>\n",
       "      <td>US</td>\n",
       "      <td>589253.723997</td>\n",
       "      <td>589253.723997</td>\n",
       "    </tr>\n",
       "    <tr>\n",
       "      <th>2015</th>\n",
       "      <td>2043.939941</td>\n",
       "      <td>43.390000</td>\n",
       "      <td>2043.939941</td>\n",
       "      <td>43.390000</td>\n",
       "      <td>236.525</td>\n",
       "      <td>0</td>\n",
       "      <td>0.394280</td>\n",
       "      <td>0.040611</td>\n",
       "      <td>US</td>\n",
       "      <td>584972.180223</td>\n",
       "      <td>584972.180223</td>\n",
       "    </tr>\n",
       "  </tbody>\n",
       "</table>\n",
       "</div>"
      ],
      "text/plain": [
       "      Price_Nominal  Dividend_Nominal   Price_Real  Dividend_Real      CPI  \\\n",
       "Year                                                                         \n",
       "2006    1418.300000         24.881000  1662.355835      29.162431  201.800   \n",
       "2007    1468.355200         27.731000  1653.538982      31.228336  210.036   \n",
       "2008     903.250000         28.387000  1016.235736      31.937873  210.228   \n",
       "2009    1115.100000         22.407291  1221.348686      24.542297  215.949   \n",
       "2010    1257.640000         22.730000  1357.170628      24.528870  219.179   \n",
       "2011    1257.600000         26.425000  1318.080400      27.695829  225.672   \n",
       "2012    1426.190000         31.247000  1469.199131      32.189305  229.601   \n",
       "2013    1848.360000         34.990000  1875.928878      35.511887  233.049   \n",
       "2014    2058.900000         39.440000  2073.920083      39.727723  234.812   \n",
       "2015    2043.939941         43.390000  2043.939941      43.390000  236.525   \n",
       "\n",
       "      Recession  Div_Earnings  Risk_free_r Country  Price_Nominal_Normalized  \\\n",
       "Year                                                                           \n",
       "2006          0      0.411169     0.040611      US             405915.079287   \n",
       "2007          0      0.409767     0.040611      US             420240.793506   \n",
       "2008          1      0.438638     0.040611      US             258508.633834   \n",
       "2009          1      0.437428     0.040611      US             319139.748229   \n",
       "2010          0      0.421240     0.040611      US             359934.456966   \n",
       "2011          0      0.404335     0.040611      US             359923.009033   \n",
       "2012          0      0.395896     0.040611      US             408173.184043   \n",
       "2013          0      0.387888     0.040611      US             528997.529402   \n",
       "2014          0      0.386529     0.040611      US             589253.723997   \n",
       "2015          0      0.394280     0.040611      US             584972.180223   \n",
       "\n",
       "      Price_Real_Normalized  \n",
       "Year                         \n",
       "2006          405915.079287  \n",
       "2007          420240.793506  \n",
       "2008          258508.633834  \n",
       "2009          319139.748229  \n",
       "2010          359934.456966  \n",
       "2011          359923.009033  \n",
       "2012          408173.184043  \n",
       "2013          528997.529402  \n",
       "2014          589253.723997  \n",
       "2015          584972.180223  "
      ]
     },
     "execution_count": 3,
     "metadata": {},
     "output_type": "execute_result"
    }
   ],
   "source": [
    "data.tail(10)"
   ]
  },
  {
   "cell_type": "code",
   "execution_count": 4,
   "metadata": {},
   "outputs": [],
   "source": [
    "#Put the data into a dataframe\n",
    "df_data=pd.DataFrame(data)"
   ]
  },
  {
   "cell_type": "code",
   "execution_count": 5,
   "metadata": {},
   "outputs": [],
   "source": [
    "#Create a folder \"Charts\" where you have the files"
   ]
  },
  {
   "cell_type": "code",
   "execution_count": 6,
   "metadata": {},
   "outputs": [
    {
     "name": "stdout",
     "output_type": "stream",
     "text": [
      "plottingPrice_Nominal\n",
      "plottingDividend_Nominal\n",
      "plottingPrice_Real\n",
      "plottingDividend_Real\n",
      "plottingCPI\n",
      "plottingRecession\n",
      "plottingDiv_Earnings\n",
      "plottingRisk_free_r\n",
      "plottingCountry\n",
      "plottingPrice_Nominal_Normalized\n",
      "plottingPrice_Real_Normalized\n"
     ]
    }
   ],
   "source": [
    "# Create a loop over all columns\n",
    "# withing theloop, plot and save each individual time series\n",
    "for col in data.iteritems():\n",
    "    print('plotting'+col[0])\n",
    "    fig, ax = plt.subplots()\n",
    "    indicator=data[col[0]]\n",
    "    ax.plot(indicator, alpha=0.9, color='blue')\n",
    "    plt.title(col[0])\n",
    "    plt.savefig('Charts\\Plot_'+col[0]+'.png')\n",
    "    plt.close()\n"
   ]
  },
  {
   "cell_type": "markdown",
   "metadata": {},
   "source": [
    "# Correcting Inflation and Working with Subsamples"
   ]
  },
  {
   "cell_type": "code",
   "execution_count": 68,
   "metadata": {},
   "outputs": [
    {
     "data": {
      "image/png": "[encoded data removed]",
      "text/plain": [
       "<Figure size 720x432 with 1 Axes>"
      ]
     },
     "metadata": {
      "needs_background": "light"
     },
     "output_type": "display_data"
    }
   ],
   "source": [
    "\n",
    "# plot one series\n",
    "plt.figure(figsize=(10, 6))\n",
    "plt.plot(data['Price_Nominal'])\n",
    "plt.show()\n"
   ]
  },
  {
   "cell_type": "code",
   "execution_count": 69,
   "metadata": {},
   "outputs": [
    {
     "data": {
      "image/png": "[encoded data removed]",
      "text/plain": [
       "<Figure size 720x432 with 1 Axes>"
      ]
     },
     "metadata": {
      "needs_background": "light"
     },
     "output_type": "display_data"
    }
   ],
   "source": [
    "plt.figure(figsize=(10, 6))\n",
    "plt.plot(data['Price_Nominal_Normalized'])\n",
    "plt.show()\n"
   ]
  },
  {
   "cell_type": "code",
   "execution_count": 70,
   "metadata": {},
   "outputs": [
    {
     "data": {
      "text/html": [
       "<div>\n",
       "<style scoped>\n",
       "    .dataframe tbody tr th:only-of-type {\n",
       "        vertical-align: middle;\n",
       "    }\n",
       "\n",
       "    .dataframe tbody tr th {\n",
       "        vertical-align: top;\n",
       "    }\n",
       "\n",
       "    .dataframe thead th {\n",
       "        text-align: right;\n",
       "    }\n",
       "</style>\n",
       "<table border=\"1\" class=\"dataframe\">\n",
       "  <thead>\n",
       "    <tr style=\"text-align: right;\">\n",
       "      <th></th>\n",
       "      <th>Return_Nominal</th>\n",
       "      <th>Return_Real</th>\n",
       "    </tr>\n",
       "  </thead>\n",
       "  <tbody>\n",
       "    <tr>\n",
       "      <th>count</th>\n",
       "      <td>386.000000</td>\n",
       "      <td>380.000000</td>\n",
       "    </tr>\n",
       "    <tr>\n",
       "      <th>mean</th>\n",
       "      <td>0.032086</td>\n",
       "      <td>0.032240</td>\n",
       "    </tr>\n",
       "    <tr>\n",
       "      <th>std</th>\n",
       "      <td>0.137623</td>\n",
       "      <td>0.147017</td>\n",
       "    </tr>\n",
       "    <tr>\n",
       "      <th>min</th>\n",
       "      <td>-0.470665</td>\n",
       "      <td>-0.470665</td>\n",
       "    </tr>\n",
       "    <tr>\n",
       "      <th>25%</th>\n",
       "      <td>-0.039474</td>\n",
       "      <td>-0.051174</td>\n",
       "    </tr>\n",
       "    <tr>\n",
       "      <th>50%</th>\n",
       "      <td>0.024584</td>\n",
       "      <td>0.026062</td>\n",
       "    </tr>\n",
       "    <tr>\n",
       "      <th>75%</th>\n",
       "      <td>0.107836</td>\n",
       "      <td>0.118741</td>\n",
       "    </tr>\n",
       "    <tr>\n",
       "      <th>max</th>\n",
       "      <td>0.465893</td>\n",
       "      <td>0.473623</td>\n",
       "    </tr>\n",
       "  </tbody>\n",
       "</table>\n",
       "</div>"
      ],
      "text/plain": [
       "       Return_Nominal  Return_Real\n",
       "count      386.000000   380.000000\n",
       "mean         0.032086     0.032240\n",
       "std          0.137623     0.147017\n",
       "min         -0.470665    -0.470665\n",
       "25%         -0.039474    -0.051174\n",
       "50%          0.024584     0.026062\n",
       "75%          0.107836     0.118741\n",
       "max          0.465893     0.473623"
      ]
     },
     "execution_count": 70,
     "metadata": {},
     "output_type": "execute_result"
    }
   ],
   "source": [
    "# Calculate Simple Price Returns\n",
    "data['Return_Nominal']= (data['Price_Nominal_Normalized'] - data['Price_Nominal_Normalized'].shift(1))/data['Price_Nominal_Normalized'].shift(1)\n",
    "data['Return_Real']= (data['Price_Real_Normalized'] - data['Price_Real_Normalized'].shift(1))/data['Price_Real_Normalized'].shift(1)\n",
    "data[['Return_Nominal','Return_Real']].describe()"
   ]
  },
  {
   "cell_type": "code",
   "execution_count": 71,
   "metadata": {},
   "outputs": [
    {
     "data": {
      "image/png": "[encoded data removed]",
      "text/plain": [
       "<Figure size 1080x720 with 1 Axes>"
      ]
     },
     "metadata": {
      "needs_background": "light"
     },
     "output_type": "display_data"
    }
   ],
   "source": [
    "# Create dividend yield ratios\n",
    "data['DP_Nominal']= data['Dividend_Nominal'] /data['Price_Nominal']\n",
    "data['DP_Real']= data['Dividend_Real'] /data['Price_Real']\n",
    "plt.figure(figsize=(15, 10))\n",
    "plt.plot(data['DP_Real'])\n",
    "plt.show()"
   ]
  },
  {
   "cell_type": "code",
   "execution_count": 72,
   "metadata": {},
   "outputs": [
    {
     "data": {
      "image/png": "[encoded data removed]",
      "text/plain": [
       "<Figure size 720x360 with 1 Axes>"
      ]
     },
     "metadata": {
      "needs_background": "light"
     },
     "output_type": "display_data"
    }
   ],
   "source": [
    "# Inflation Calculation\n",
    "data['Inflation']=(data['CPI'] - data['CPI'].shift(1))/data['CPI'].shift(1)\n",
    "plt.figure(figsize=(10, 5))\n",
    "plt.plot(data['Inflation'])\n",
    "plt.show()"
   ]
  },
  {
   "cell_type": "code",
   "execution_count": 73,
   "metadata": {},
   "outputs": [
    {
     "data": {
      "text/plain": [
       "Year\n",
       "1871   -0.932066\n",
       "Name: Inflation, dtype: float64"
      ]
     },
     "execution_count": 73,
     "metadata": {},
     "output_type": "execute_result"
    }
   ],
   "source": [
    "#identify manually the year (row number) where the inflation drops\n",
    "data['Inflation'][269:270]"
   ]
  },
  {
   "cell_type": "code",
   "execution_count": 74,
   "metadata": {},
   "outputs": [
    {
     "name": "stdout",
     "output_type": "stream",
     "text": [
      "Before Adjustment Year\n",
      "1871   -0.932066\n",
      "Name: Inflation, dtype: float64\n"
     ]
    }
   ],
   "source": [
    "#identify just one single row where the data appears wrong\n",
    "#replace ('student_input_here') with [number:number]\n",
    "print('Before Adjustment',data['Inflation'][269:270])\n"
   ]
  },
  {
   "cell_type": "code",
   "execution_count": 75,
   "metadata": {},
   "outputs": [
    {
     "name": "stdout",
     "output_type": "stream",
     "text": [
      "-------------\n",
      "After Adjustment Year\n",
      "1871    0.0\n",
      "Name: Inflation, dtype: float64\n"
     ]
    },
    {
     "name": "stderr",
     "output_type": "stream",
     "text": [
      "<ipython-input-75-4098a6066b54>:4: SettingWithCopyWarning: \n",
      "A value is trying to be set on a copy of a slice from a DataFrame\n",
      "\n",
      "See the caveats in the documentation: https://pandas.pydata.org/pandas-docs/stable/user_guide/indexing.html#returning-a-view-versus-a-copy\n",
      "  data['Inflation'][269:270] = 0\n"
     ]
    }
   ],
   "source": [
    "#correct the error here by replacing the value with 0 \n",
    "#replace ('student_input_here') with [number:number]\n",
    "\n",
    "data['Inflation'][269:270] = 0\n",
    "print('-------------')\n",
    "print('After Adjustment',data['Inflation'][269:270])\n"
   ]
  },
  {
   "cell_type": "code",
   "execution_count": 76,
   "metadata": {},
   "outputs": [
    {
     "data": {
      "image/png": "[encoded data removed]",
      "text/plain": [
       "<Figure size 720x360 with 1 Axes>"
      ]
     },
     "metadata": {
      "needs_background": "light"
     },
     "output_type": "display_data"
    }
   ],
   "source": [
    "plt.figure(figsize=(10, 5))\n",
    "plt.plot(data['Inflation'])\n",
    "plt.show()"
   ]
  },
  {
   "cell_type": "code",
   "execution_count": 77,
   "metadata": {},
   "outputs": [
    {
     "data": {
      "text/plain": [
       "0.011"
      ]
     },
     "execution_count": 77,
     "metadata": {},
     "output_type": "execute_result"
    }
   ],
   "source": [
    "abc = round(np.average(data['Inflation'][50:]),3)\n",
    "abc"
   ]
  },
  {
   "cell_type": "code",
   "execution_count": null,
   "metadata": {},
   "outputs": [],
   "source": []
  },
  {
   "cell_type": "code",
   "execution_count": 78,
   "metadata": {},
   "outputs": [
    {
     "data": {
      "text/html": [
       "<div>\n",
       "<style scoped>\n",
       "    .dataframe tbody tr th:only-of-type {\n",
       "        vertical-align: middle;\n",
       "    }\n",
       "\n",
       "    .dataframe tbody tr th {\n",
       "        vertical-align: top;\n",
       "    }\n",
       "\n",
       "    .dataframe thead th {\n",
       "        text-align: right;\n",
       "    }\n",
       "</style>\n",
       "<table border=\"1\" class=\"dataframe\">\n",
       "  <thead>\n",
       "    <tr style=\"text-align: right;\">\n",
       "      <th></th>\n",
       "      <th>Price_Nominal</th>\n",
       "      <th>Dividend_Nominal</th>\n",
       "      <th>Price_Real</th>\n",
       "      <th>Dividend_Real</th>\n",
       "      <th>CPI</th>\n",
       "      <th>Recession</th>\n",
       "      <th>Div_Earnings</th>\n",
       "      <th>Risk_free_r</th>\n",
       "      <th>Country</th>\n",
       "      <th>Price_Nominal_Normalized</th>\n",
       "      <th>Price_Real_Normalized</th>\n",
       "      <th>Return_Nominal</th>\n",
       "      <th>Return_Real</th>\n",
       "      <th>DP_Nominal</th>\n",
       "      <th>DP_Real</th>\n",
       "      <th>Inflation</th>\n",
       "    </tr>\n",
       "    <tr>\n",
       "      <th>Year</th>\n",
       "      <th></th>\n",
       "      <th></th>\n",
       "      <th></th>\n",
       "      <th></th>\n",
       "      <th></th>\n",
       "      <th></th>\n",
       "      <th></th>\n",
       "      <th></th>\n",
       "      <th></th>\n",
       "      <th></th>\n",
       "      <th></th>\n",
       "      <th></th>\n",
       "      <th></th>\n",
       "      <th></th>\n",
       "      <th></th>\n",
       "      <th></th>\n",
       "    </tr>\n",
       "  </thead>\n",
       "  <tbody>\n",
       "    <tr>\n",
       "      <th>1602</th>\n",
       "      <td>NaN</td>\n",
       "      <td>NaN</td>\n",
       "      <td>NaN</td>\n",
       "      <td>NaN</td>\n",
       "      <td>90.376211</td>\n",
       "      <td>10</td>\n",
       "      <td>NaN</td>\n",
       "      <td>0.033503</td>\n",
       "      <td>NL_UK</td>\n",
       "      <td>NaN</td>\n",
       "      <td>NaN</td>\n",
       "      <td>NaN</td>\n",
       "      <td>NaN</td>\n",
       "      <td>NaN</td>\n",
       "      <td>NaN</td>\n",
       "      <td>NaN</td>\n",
       "    </tr>\n",
       "    <tr>\n",
       "      <th>1603</th>\n",
       "      <td>NaN</td>\n",
       "      <td>NaN</td>\n",
       "      <td>NaN</td>\n",
       "      <td>NaN</td>\n",
       "      <td>96.724030</td>\n",
       "      <td>10</td>\n",
       "      <td>NaN</td>\n",
       "      <td>0.033503</td>\n",
       "      <td>NL_UK</td>\n",
       "      <td>NaN</td>\n",
       "      <td>NaN</td>\n",
       "      <td>NaN</td>\n",
       "      <td>NaN</td>\n",
       "      <td>NaN</td>\n",
       "      <td>NaN</td>\n",
       "      <td>0.070238</td>\n",
       "    </tr>\n",
       "  </tbody>\n",
       "</table>\n",
       "</div>"
      ],
      "text/plain": [
       "      Price_Nominal  Dividend_Nominal  Price_Real  Dividend_Real        CPI  \\\n",
       "Year                                                                          \n",
       "1602            NaN               NaN         NaN            NaN  90.376211   \n",
       "1603            NaN               NaN         NaN            NaN  96.724030   \n",
       "\n",
       "      Recession  Div_Earnings  Risk_free_r Country  Price_Nominal_Normalized  \\\n",
       "Year                                                                           \n",
       "1602         10           NaN     0.033503   NL_UK                       NaN   \n",
       "1603         10           NaN     0.033503   NL_UK                       NaN   \n",
       "\n",
       "      Price_Real_Normalized  Return_Nominal  Return_Real  DP_Nominal  DP_Real  \\\n",
       "Year                                                                            \n",
       "1602                    NaN             NaN          NaN         NaN      NaN   \n",
       "1603                    NaN             NaN          NaN         NaN      NaN   \n",
       "\n",
       "      Inflation  \n",
       "Year             \n",
       "1602        NaN  \n",
       "1603   0.070238  "
      ]
     },
     "execution_count": 78,
     "metadata": {},
     "output_type": "execute_result"
    }
   ],
   "source": [
    "# dealing with missing data\n",
    "df_1=pd.DataFrame(data)\n",
    "df_1.head(2)"
   ]
  },
  {
   "cell_type": "code",
   "execution_count": 79,
   "metadata": {},
   "outputs": [
    {
     "data": {
      "text/html": [
       "<div>\n",
       "<style scoped>\n",
       "    .dataframe tbody tr th:only-of-type {\n",
       "        vertical-align: middle;\n",
       "    }\n",
       "\n",
       "    .dataframe tbody tr th {\n",
       "        vertical-align: top;\n",
       "    }\n",
       "\n",
       "    .dataframe thead th {\n",
       "        text-align: right;\n",
       "    }\n",
       "</style>\n",
       "<table border=\"1\" class=\"dataframe\">\n",
       "  <thead>\n",
       "    <tr style=\"text-align: right;\">\n",
       "      <th></th>\n",
       "      <th>Price_Nominal</th>\n",
       "      <th>Dividend_Nominal</th>\n",
       "      <th>Price_Real</th>\n",
       "      <th>Dividend_Real</th>\n",
       "      <th>CPI</th>\n",
       "      <th>Recession</th>\n",
       "      <th>Div_Earnings</th>\n",
       "      <th>Risk_free_r</th>\n",
       "      <th>Country</th>\n",
       "      <th>Price_Nominal_Normalized</th>\n",
       "      <th>Price_Real_Normalized</th>\n",
       "      <th>Return_Nominal</th>\n",
       "      <th>Return_Real</th>\n",
       "      <th>DP_Nominal</th>\n",
       "      <th>DP_Real</th>\n",
       "      <th>Inflation</th>\n",
       "    </tr>\n",
       "    <tr>\n",
       "      <th>Year</th>\n",
       "      <th></th>\n",
       "      <th></th>\n",
       "      <th></th>\n",
       "      <th></th>\n",
       "      <th></th>\n",
       "      <th></th>\n",
       "      <th></th>\n",
       "      <th></th>\n",
       "      <th></th>\n",
       "      <th></th>\n",
       "      <th></th>\n",
       "      <th></th>\n",
       "      <th></th>\n",
       "      <th></th>\n",
       "      <th></th>\n",
       "      <th></th>\n",
       "    </tr>\n",
       "  </thead>\n",
       "  <tbody>\n",
       "    <tr>\n",
       "      <th>1670</th>\n",
       "      <td>170.815623</td>\n",
       "      <td>14.006734</td>\n",
       "      <td>281.415425</td>\n",
       "      <td>23.075823</td>\n",
       "      <td>126.981816</td>\n",
       "      <td>10</td>\n",
       "      <td>1.069543</td>\n",
       "      <td>0.033503</td>\n",
       "      <td>NL_UK</td>\n",
       "      <td>170.815623</td>\n",
       "      <td>281.415425</td>\n",
       "      <td>0.067418</td>\n",
       "      <td>0.003320</td>\n",
       "      <td>0.081999</td>\n",
       "      <td>0.081999</td>\n",
       "      <td>0.063886</td>\n",
       "    </tr>\n",
       "    <tr>\n",
       "      <th>1671</th>\n",
       "      <td>172.632997</td>\n",
       "      <td>21.010101</td>\n",
       "      <td>280.095864</td>\n",
       "      <td>34.088746</td>\n",
       "      <td>128.937414</td>\n",
       "      <td>10</td>\n",
       "      <td>0.909810</td>\n",
       "      <td>0.033503</td>\n",
       "      <td>NL_UK</td>\n",
       "      <td>172.632997</td>\n",
       "      <td>280.095864</td>\n",
       "      <td>0.010639</td>\n",
       "      <td>-0.004689</td>\n",
       "      <td>0.121704</td>\n",
       "      <td>0.121704</td>\n",
       "      <td>0.015401</td>\n",
       "    </tr>\n",
       "  </tbody>\n",
       "</table>\n",
       "</div>"
      ],
      "text/plain": [
       "      Price_Nominal  Dividend_Nominal  Price_Real  Dividend_Real         CPI  \\\n",
       "Year                                                                           \n",
       "1670     170.815623         14.006734  281.415425      23.075823  126.981816   \n",
       "1671     172.632997         21.010101  280.095864      34.088746  128.937414   \n",
       "\n",
       "      Recession  Div_Earnings  Risk_free_r Country  Price_Nominal_Normalized  \\\n",
       "Year                                                                           \n",
       "1670         10      1.069543     0.033503   NL_UK                170.815623   \n",
       "1671         10      0.909810     0.033503   NL_UK                172.632997   \n",
       "\n",
       "      Price_Real_Normalized  Return_Nominal  Return_Real  DP_Nominal  \\\n",
       "Year                                                                   \n",
       "1670             281.415425        0.067418     0.003320    0.081999   \n",
       "1671             280.095864        0.010639    -0.004689    0.121704   \n",
       "\n",
       "       DP_Real  Inflation  \n",
       "Year                       \n",
       "1670  0.081999   0.063886  \n",
       "1671  0.121704   0.015401  "
      ]
     },
     "execution_count": 79,
     "metadata": {},
     "output_type": "execute_result"
    }
   ],
   "source": [
    "#drop rows containing at least one NA, use inplace\n",
    "df_1.dropna(axis = 0,inplace= True)\n",
    "df_1.head(2)"
   ]
  },
  {
   "cell_type": "code",
   "execution_count": 80,
   "metadata": {},
   "outputs": [
    {
     "data": {
      "text/html": [
       "<div>\n",
       "<style scoped>\n",
       "    .dataframe tbody tr th:only-of-type {\n",
       "        vertical-align: middle;\n",
       "    }\n",
       "\n",
       "    .dataframe tbody tr th {\n",
       "        vertical-align: top;\n",
       "    }\n",
       "\n",
       "    .dataframe thead th {\n",
       "        text-align: right;\n",
       "    }\n",
       "</style>\n",
       "<table border=\"1\" class=\"dataframe\">\n",
       "  <thead>\n",
       "    <tr style=\"text-align: right;\">\n",
       "      <th></th>\n",
       "      <th>CPI</th>\n",
       "      <th>Recession</th>\n",
       "      <th>Risk_free_r</th>\n",
       "      <th>Country</th>\n",
       "    </tr>\n",
       "    <tr>\n",
       "      <th>Year</th>\n",
       "      <th></th>\n",
       "      <th></th>\n",
       "      <th></th>\n",
       "      <th></th>\n",
       "    </tr>\n",
       "  </thead>\n",
       "  <tbody>\n",
       "    <tr>\n",
       "      <th>1602</th>\n",
       "      <td>90.376211</td>\n",
       "      <td>10</td>\n",
       "      <td>0.033503</td>\n",
       "      <td>NL_UK</td>\n",
       "    </tr>\n",
       "    <tr>\n",
       "      <th>1603</th>\n",
       "      <td>96.724030</td>\n",
       "      <td>10</td>\n",
       "      <td>0.033503</td>\n",
       "      <td>NL_UK</td>\n",
       "    </tr>\n",
       "  </tbody>\n",
       "</table>\n",
       "</div>"
      ],
      "text/plain": [
       "            CPI  Recession  Risk_free_r Country\n",
       "Year                                           \n",
       "1602  90.376211         10     0.033503   NL_UK\n",
       "1603  96.724030         10     0.033503   NL_UK"
      ]
     },
     "execution_count": 80,
     "metadata": {},
     "output_type": "execute_result"
    }
   ],
   "source": [
    "#drop columns with at least one observation missing\n",
    "df_1=pd.DataFrame(data)\n",
    "df_1.head(2)\n",
    "df_1.dropna(axis='columns',inplace=True)\n",
    "df_1.head(2)"
   ]
  },
  {
   "cell_type": "code",
   "execution_count": 146,
   "metadata": {},
   "outputs": [
    {
     "data": {
      "text/html": [
       "<div>\n",
       "<style scoped>\n",
       "    .dataframe tbody tr th:only-of-type {\n",
       "        vertical-align: middle;\n",
       "    }\n",
       "\n",
       "    .dataframe tbody tr th {\n",
       "        vertical-align: top;\n",
       "    }\n",
       "\n",
       "    .dataframe thead th {\n",
       "        text-align: right;\n",
       "    }\n",
       "</style>\n",
       "<table border=\"1\" class=\"dataframe\">\n",
       "  <thead>\n",
       "    <tr style=\"text-align: right;\">\n",
       "      <th></th>\n",
       "      <th>Price_Nominal</th>\n",
       "      <th>Dividend_Nominal</th>\n",
       "      <th>Price_Real</th>\n",
       "      <th>Dividend_Real</th>\n",
       "      <th>CPI</th>\n",
       "      <th>Recession</th>\n",
       "      <th>Div_Earnings</th>\n",
       "      <th>Risk_free_r</th>\n",
       "      <th>Country</th>\n",
       "      <th>Price_Nominal_Normalized</th>\n",
       "      <th>Price_Real_Normalized</th>\n",
       "      <th>Return_Nominal</th>\n",
       "      <th>Return_Real</th>\n",
       "      <th>DP_Nominal</th>\n",
       "      <th>DP_Real</th>\n",
       "      <th>Inflation</th>\n",
       "    </tr>\n",
       "    <tr>\n",
       "      <th>Year</th>\n",
       "      <th></th>\n",
       "      <th></th>\n",
       "      <th></th>\n",
       "      <th></th>\n",
       "      <th></th>\n",
       "      <th></th>\n",
       "      <th></th>\n",
       "      <th></th>\n",
       "      <th></th>\n",
       "      <th></th>\n",
       "      <th></th>\n",
       "      <th></th>\n",
       "      <th></th>\n",
       "      <th></th>\n",
       "      <th></th>\n",
       "      <th></th>\n",
       "    </tr>\n",
       "  </thead>\n",
       "  <tbody>\n",
       "    <tr>\n",
       "      <th>1602</th>\n",
       "      <td>NaN</td>\n",
       "      <td>NaN</td>\n",
       "      <td>NaN</td>\n",
       "      <td>NaN</td>\n",
       "      <td>90.376211</td>\n",
       "      <td>10</td>\n",
       "      <td>NaN</td>\n",
       "      <td>0.033503</td>\n",
       "      <td>NL_UK</td>\n",
       "      <td>NaN</td>\n",
       "      <td>NaN</td>\n",
       "      <td>NaN</td>\n",
       "      <td>NaN</td>\n",
       "      <td>NaN</td>\n",
       "      <td>NaN</td>\n",
       "      <td>NaN</td>\n",
       "    </tr>\n",
       "    <tr>\n",
       "      <th>1603</th>\n",
       "      <td>NaN</td>\n",
       "      <td>NaN</td>\n",
       "      <td>NaN</td>\n",
       "      <td>NaN</td>\n",
       "      <td>96.724030</td>\n",
       "      <td>10</td>\n",
       "      <td>NaN</td>\n",
       "      <td>0.033503</td>\n",
       "      <td>NL_UK</td>\n",
       "      <td>NaN</td>\n",
       "      <td>NaN</td>\n",
       "      <td>NaN</td>\n",
       "      <td>NaN</td>\n",
       "      <td>NaN</td>\n",
       "      <td>NaN</td>\n",
       "      <td>0.070238</td>\n",
       "    </tr>\n",
       "  </tbody>\n",
       "</table>\n",
       "</div>"
      ],
      "text/plain": [
       "      Price_Nominal  Dividend_Nominal  Price_Real  Dividend_Real        CPI  \\\n",
       "Year                                                                          \n",
       "1602            NaN               NaN         NaN            NaN  90.376211   \n",
       "1603            NaN               NaN         NaN            NaN  96.724030   \n",
       "\n",
       "      Recession  Div_Earnings  Risk_free_r Country  Price_Nominal_Normalized  \\\n",
       "Year                                                                           \n",
       "1602         10           NaN     0.033503   NL_UK                       NaN   \n",
       "1603         10           NaN     0.033503   NL_UK                       NaN   \n",
       "\n",
       "      Price_Real_Normalized  Return_Nominal  Return_Real  DP_Nominal  DP_Real  \\\n",
       "Year                                                                            \n",
       "1602                    NaN             NaN          NaN         NaN      NaN   \n",
       "1603                    NaN             NaN          NaN         NaN      NaN   \n",
       "\n",
       "      Inflation  \n",
       "Year             \n",
       "1602        NaN  \n",
       "1603   0.070238  "
      ]
     },
     "execution_count": 146,
     "metadata": {},
     "output_type": "execute_result"
    }
   ],
   "source": [
    "#drop columns with function \"all\"\n",
    "df_1=pd.DataFrame(data)\n",
    "df_1.head(2)\n",
    "df_1.dropna(axis='columns',how='all',inplace=True)\n",
    "df_1.head(2)"
   ]
  },
  {
   "cell_type": "code",
   "execution_count": 147,
   "metadata": {},
   "outputs": [
    {
     "name": "stdout",
     "output_type": "stream",
     "text": [
      "table size before cleaning: (414, 16)\n",
      "table size after cleaning: (263, 16)\n"
     ]
    }
   ],
   "source": [
    "#drop rows and count how many have been removed\n",
    "df_clean=pd.DataFrame(data)\n",
    "df_clean.dropna(axis='rows',inplace=True)\n",
    "\n",
    "print('table size before cleaning:', df_1.shape)\n",
    "\n",
    "#STUDENTS --> clean the rows if data not available\n",
    "print('table size after cleaning:', df_clean.shape)\n",
    "\n"
   ]
  },
  {
   "cell_type": "code",
   "execution_count": null,
   "metadata": {},
   "outputs": [],
   "source": []
  },
  {
   "cell_type": "markdown",
   "metadata": {},
   "source": [
    "# Sub-samples"
   ]
  },
  {
   "cell_type": "code",
   "execution_count": 148,
   "metadata": {},
   "outputs": [],
   "source": [
    "# Create smaller datasets by selecting dates from the index\n",
    "sample_1=data[27:210] # 1629_1812\n",
    "sample_2=data[211:269] # 1813_1870\n",
    "sample_3=data[269:344] # 1871_1945\n",
    "sample_4=data[344:415] # 1945_2015 \n",
    "sample_5=data[27:415] # 1629_2015 \n",
    "\n"
   ]
  },
  {
   "cell_type": "code",
   "execution_count": 149,
   "metadata": {},
   "outputs": [
    {
     "data": {
      "text/html": [
       "<div>\n",
       "<style scoped>\n",
       "    .dataframe tbody tr th:only-of-type {\n",
       "        vertical-align: middle;\n",
       "    }\n",
       "\n",
       "    .dataframe tbody tr th {\n",
       "        vertical-align: top;\n",
       "    }\n",
       "\n",
       "    .dataframe thead th {\n",
       "        text-align: right;\n",
       "    }\n",
       "</style>\n",
       "<table border=\"1\" class=\"dataframe\">\n",
       "  <thead>\n",
       "    <tr style=\"text-align: right;\">\n",
       "      <th></th>\n",
       "      <th>Price_Nominal</th>\n",
       "      <th>Dividend_Nominal</th>\n",
       "      <th>Price_Real</th>\n",
       "      <th>Dividend_Real</th>\n",
       "      <th>CPI</th>\n",
       "      <th>Recession</th>\n",
       "      <th>Div_Earnings</th>\n",
       "      <th>Risk_free_r</th>\n",
       "      <th>Country</th>\n",
       "      <th>Price_Nominal_Normalized</th>\n",
       "      <th>Price_Real_Normalized</th>\n",
       "      <th>Return_Nominal</th>\n",
       "      <th>Return_Real</th>\n",
       "      <th>DP_Nominal</th>\n",
       "      <th>DP_Real</th>\n",
       "      <th>Inflation</th>\n",
       "    </tr>\n",
       "    <tr>\n",
       "      <th>Year</th>\n",
       "      <th></th>\n",
       "      <th></th>\n",
       "      <th></th>\n",
       "      <th></th>\n",
       "      <th></th>\n",
       "      <th></th>\n",
       "      <th></th>\n",
       "      <th></th>\n",
       "      <th></th>\n",
       "      <th></th>\n",
       "      <th></th>\n",
       "      <th></th>\n",
       "      <th></th>\n",
       "      <th></th>\n",
       "      <th></th>\n",
       "      <th></th>\n",
       "    </tr>\n",
       "  </thead>\n",
       "  <tbody>\n",
       "    <tr>\n",
       "      <th>1629</th>\n",
       "      <td>100.000000</td>\n",
       "      <td>13.227513</td>\n",
       "      <td>149.633232</td>\n",
       "      <td>19.792756</td>\n",
       "      <td>139.808568</td>\n",
       "      <td>10</td>\n",
       "      <td>NaN</td>\n",
       "      <td>0.033503</td>\n",
       "      <td>NL_UK</td>\n",
       "      <td>100.000000</td>\n",
       "      <td>149.633232</td>\n",
       "      <td>NaN</td>\n",
       "      <td>NaN</td>\n",
       "      <td>0.132275</td>\n",
       "      <td>0.132275</td>\n",
       "      <td>0.115686</td>\n",
       "    </tr>\n",
       "    <tr>\n",
       "      <th>1630</th>\n",
       "      <td>102.645503</td>\n",
       "      <td>NaN</td>\n",
       "      <td>NaN</td>\n",
       "      <td>NaN</td>\n",
       "      <td>155.146661</td>\n",
       "      <td>10</td>\n",
       "      <td>NaN</td>\n",
       "      <td>0.033503</td>\n",
       "      <td>NL_UK</td>\n",
       "      <td>102.645503</td>\n",
       "      <td>NaN</td>\n",
       "      <td>0.026455</td>\n",
       "      <td>NaN</td>\n",
       "      <td>NaN</td>\n",
       "      <td>NaN</td>\n",
       "      <td>0.109708</td>\n",
       "    </tr>\n",
       "    <tr>\n",
       "      <th>1631</th>\n",
       "      <td>101.000000</td>\n",
       "      <td>9.259259</td>\n",
       "      <td>136.667795</td>\n",
       "      <td>12.529134</td>\n",
       "      <td>154.602684</td>\n",
       "      <td>10</td>\n",
       "      <td>NaN</td>\n",
       "      <td>0.033503</td>\n",
       "      <td>NL_UK</td>\n",
       "      <td>101.000000</td>\n",
       "      <td>136.667795</td>\n",
       "      <td>-0.016031</td>\n",
       "      <td>NaN</td>\n",
       "      <td>0.091676</td>\n",
       "      <td>0.091676</td>\n",
       "      <td>-0.003506</td>\n",
       "    </tr>\n",
       "    <tr>\n",
       "      <th>1632</th>\n",
       "      <td>114.124294</td>\n",
       "      <td>NaN</td>\n",
       "      <td>NaN</td>\n",
       "      <td>NaN</td>\n",
       "      <td>128.042914</td>\n",
       "      <td>10</td>\n",
       "      <td>NaN</td>\n",
       "      <td>0.033503</td>\n",
       "      <td>NL_UK</td>\n",
       "      <td>114.124294</td>\n",
       "      <td>NaN</td>\n",
       "      <td>0.129944</td>\n",
       "      <td>NaN</td>\n",
       "      <td>NaN</td>\n",
       "      <td>NaN</td>\n",
       "      <td>-0.171794</td>\n",
       "    </tr>\n",
       "    <tr>\n",
       "      <th>1633</th>\n",
       "      <td>102.000000</td>\n",
       "      <td>18.545198</td>\n",
       "      <td>174.169513</td>\n",
       "      <td>31.666746</td>\n",
       "      <td>122.515173</td>\n",
       "      <td>10</td>\n",
       "      <td>NaN</td>\n",
       "      <td>0.033503</td>\n",
       "      <td>NL_UK</td>\n",
       "      <td>102.000000</td>\n",
       "      <td>174.169513</td>\n",
       "      <td>-0.106238</td>\n",
       "      <td>NaN</td>\n",
       "      <td>0.181816</td>\n",
       "      <td>0.181816</td>\n",
       "      <td>-0.043171</td>\n",
       "    </tr>\n",
       "    <tr>\n",
       "      <th>...</th>\n",
       "      <td>...</td>\n",
       "      <td>...</td>\n",
       "      <td>...</td>\n",
       "      <td>...</td>\n",
       "      <td>...</td>\n",
       "      <td>...</td>\n",
       "      <td>...</td>\n",
       "      <td>...</td>\n",
       "      <td>...</td>\n",
       "      <td>...</td>\n",
       "      <td>...</td>\n",
       "      <td>...</td>\n",
       "      <td>...</td>\n",
       "      <td>...</td>\n",
       "      <td>...</td>\n",
       "      <td>...</td>\n",
       "    </tr>\n",
       "    <tr>\n",
       "      <th>2011</th>\n",
       "      <td>1257.600000</td>\n",
       "      <td>26.425000</td>\n",
       "      <td>1318.080400</td>\n",
       "      <td>27.695829</td>\n",
       "      <td>225.672000</td>\n",
       "      <td>0</td>\n",
       "      <td>0.404335</td>\n",
       "      <td>0.040611</td>\n",
       "      <td>US</td>\n",
       "      <td>359923.009033</td>\n",
       "      <td>359923.009033</td>\n",
       "      <td>-0.000032</td>\n",
       "      <td>-0.000032</td>\n",
       "      <td>0.021012</td>\n",
       "      <td>0.021012</td>\n",
       "      <td>0.029624</td>\n",
       "    </tr>\n",
       "    <tr>\n",
       "      <th>2012</th>\n",
       "      <td>1426.190000</td>\n",
       "      <td>31.247000</td>\n",
       "      <td>1469.199131</td>\n",
       "      <td>32.189305</td>\n",
       "      <td>229.601000</td>\n",
       "      <td>0</td>\n",
       "      <td>0.395896</td>\n",
       "      <td>0.040611</td>\n",
       "      <td>US</td>\n",
       "      <td>408173.184043</td>\n",
       "      <td>408173.184043</td>\n",
       "      <td>0.134057</td>\n",
       "      <td>0.134057</td>\n",
       "      <td>0.021909</td>\n",
       "      <td>0.021909</td>\n",
       "      <td>0.017410</td>\n",
       "    </tr>\n",
       "    <tr>\n",
       "      <th>2013</th>\n",
       "      <td>1848.360000</td>\n",
       "      <td>34.990000</td>\n",
       "      <td>1875.928878</td>\n",
       "      <td>35.511887</td>\n",
       "      <td>233.049000</td>\n",
       "      <td>0</td>\n",
       "      <td>0.387888</td>\n",
       "      <td>0.040611</td>\n",
       "      <td>US</td>\n",
       "      <td>528997.529402</td>\n",
       "      <td>528997.529402</td>\n",
       "      <td>0.296012</td>\n",
       "      <td>0.296012</td>\n",
       "      <td>0.018930</td>\n",
       "      <td>0.018930</td>\n",
       "      <td>0.015017</td>\n",
       "    </tr>\n",
       "    <tr>\n",
       "      <th>2014</th>\n",
       "      <td>2058.900000</td>\n",
       "      <td>39.440000</td>\n",
       "      <td>2073.920083</td>\n",
       "      <td>39.727723</td>\n",
       "      <td>234.812000</td>\n",
       "      <td>0</td>\n",
       "      <td>0.386529</td>\n",
       "      <td>0.040611</td>\n",
       "      <td>US</td>\n",
       "      <td>589253.723997</td>\n",
       "      <td>589253.723997</td>\n",
       "      <td>0.113906</td>\n",
       "      <td>0.113906</td>\n",
       "      <td>0.019156</td>\n",
       "      <td>0.019156</td>\n",
       "      <td>0.007565</td>\n",
       "    </tr>\n",
       "    <tr>\n",
       "      <th>2015</th>\n",
       "      <td>2043.939941</td>\n",
       "      <td>43.390000</td>\n",
       "      <td>2043.939941</td>\n",
       "      <td>43.390000</td>\n",
       "      <td>236.525000</td>\n",
       "      <td>0</td>\n",
       "      <td>0.394280</td>\n",
       "      <td>0.040611</td>\n",
       "      <td>US</td>\n",
       "      <td>584972.180223</td>\n",
       "      <td>584972.180223</td>\n",
       "      <td>-0.007266</td>\n",
       "      <td>-0.007266</td>\n",
       "      <td>0.021229</td>\n",
       "      <td>0.021229</td>\n",
       "      <td>0.007295</td>\n",
       "    </tr>\n",
       "  </tbody>\n",
       "</table>\n",
       "<p>387 rows × 16 columns</p>\n",
       "</div>"
      ],
      "text/plain": [
       "      Price_Nominal  Dividend_Nominal   Price_Real  Dividend_Real         CPI  \\\n",
       "Year                                                                            \n",
       "1629     100.000000         13.227513   149.633232      19.792756  139.808568   \n",
       "1630     102.645503               NaN          NaN            NaN  155.146661   \n",
       "1631     101.000000          9.259259   136.667795      12.529134  154.602684   \n",
       "1632     114.124294               NaN          NaN            NaN  128.042914   \n",
       "1633     102.000000         18.545198   174.169513      31.666746  122.515173   \n",
       "...             ...               ...          ...            ...         ...   \n",
       "2011    1257.600000         26.425000  1318.080400      27.695829  225.672000   \n",
       "2012    1426.190000         31.247000  1469.199131      32.189305  229.601000   \n",
       "2013    1848.360000         34.990000  1875.928878      35.511887  233.049000   \n",
       "2014    2058.900000         39.440000  2073.920083      39.727723  234.812000   \n",
       "2015    2043.939941         43.390000  2043.939941      43.390000  236.525000   \n",
       "\n",
       "      Recession  Div_Earnings  Risk_free_r Country  Price_Nominal_Normalized  \\\n",
       "Year                                                                           \n",
       "1629         10           NaN     0.033503   NL_UK                100.000000   \n",
       "1630         10           NaN     0.033503   NL_UK                102.645503   \n",
       "1631         10           NaN     0.033503   NL_UK                101.000000   \n",
       "1632         10           NaN     0.033503   NL_UK                114.124294   \n",
       "1633         10           NaN     0.033503   NL_UK                102.000000   \n",
       "...         ...           ...          ...     ...                       ...   \n",
       "2011          0      0.404335     0.040611      US             359923.009033   \n",
       "2012          0      0.395896     0.040611      US             408173.184043   \n",
       "2013          0      0.387888     0.040611      US             528997.529402   \n",
       "2014          0      0.386529     0.040611      US             589253.723997   \n",
       "2015          0      0.394280     0.040611      US             584972.180223   \n",
       "\n",
       "      Price_Real_Normalized  Return_Nominal  Return_Real  DP_Nominal  \\\n",
       "Year                                                                   \n",
       "1629             149.633232             NaN          NaN    0.132275   \n",
       "1630                    NaN        0.026455          NaN         NaN   \n",
       "1631             136.667795       -0.016031          NaN    0.091676   \n",
       "1632                    NaN        0.129944          NaN         NaN   \n",
       "1633             174.169513       -0.106238          NaN    0.181816   \n",
       "...                     ...             ...          ...         ...   \n",
       "2011          359923.009033       -0.000032    -0.000032    0.021012   \n",
       "2012          408173.184043        0.134057     0.134057    0.021909   \n",
       "2013          528997.529402        0.296012     0.296012    0.018930   \n",
       "2014          589253.723997        0.113906     0.113906    0.019156   \n",
       "2015          584972.180223       -0.007266    -0.007266    0.021229   \n",
       "\n",
       "       DP_Real  Inflation  \n",
       "Year                       \n",
       "1629  0.132275   0.115686  \n",
       "1630       NaN   0.109708  \n",
       "1631  0.091676  -0.003506  \n",
       "1632       NaN  -0.171794  \n",
       "1633  0.181816  -0.043171  \n",
       "...        ...        ...  \n",
       "2011  0.021012   0.029624  \n",
       "2012  0.021909   0.017410  \n",
       "2013  0.018930   0.015017  \n",
       "2014  0.019156   0.007565  \n",
       "2015  0.021229   0.007295  \n",
       "\n",
       "[387 rows x 16 columns]"
      ]
     },
     "execution_count": 149,
     "metadata": {},
     "output_type": "execute_result"
    }
   ],
   "source": [
    "sample_5"
   ]
  },
  {
   "cell_type": "code",
   "execution_count": 150,
   "metadata": {},
   "outputs": [],
   "source": [
    "# Write a function for creating empty tables with NaNs\n",
    "def nans(shape, dtype=float):\n",
    "    a = np.empty(shape, dtype)\n",
    "    a.fill(np.nan)\n",
    "    return a\n",
    "\n"
   ]
  },
  {
   "cell_type": "code",
   "execution_count": 151,
   "metadata": {},
   "outputs": [
    {
     "data": {
      "text/html": [
       "<div>\n",
       "<style scoped>\n",
       "    .dataframe tbody tr th:only-of-type {\n",
       "        vertical-align: middle;\n",
       "    }\n",
       "\n",
       "    .dataframe tbody tr th {\n",
       "        vertical-align: top;\n",
       "    }\n",
       "\n",
       "    .dataframe thead th {\n",
       "        text-align: right;\n",
       "    }\n",
       "</style>\n",
       "<table border=\"1\" class=\"dataframe\">\n",
       "  <thead>\n",
       "    <tr style=\"text-align: right;\">\n",
       "      <th></th>\n",
       "      <th>Statistic</th>\n",
       "      <th>1629–1812</th>\n",
       "      <th>1813–1870</th>\n",
       "      <th>1871–1945</th>\n",
       "      <th>1945–2015</th>\n",
       "      <th>1629-2015</th>\n",
       "    </tr>\n",
       "  </thead>\n",
       "  <tbody>\n",
       "    <tr>\n",
       "      <th>0</th>\n",
       "      <td>NaN</td>\n",
       "      <td>NaN</td>\n",
       "      <td>NaN</td>\n",
       "      <td>NaN</td>\n",
       "      <td>NaN</td>\n",
       "      <td>NaN</td>\n",
       "    </tr>\n",
       "    <tr>\n",
       "      <th>1</th>\n",
       "      <td>NaN</td>\n",
       "      <td>NaN</td>\n",
       "      <td>NaN</td>\n",
       "      <td>NaN</td>\n",
       "      <td>NaN</td>\n",
       "      <td>NaN</td>\n",
       "    </tr>\n",
       "    <tr>\n",
       "      <th>2</th>\n",
       "      <td>NaN</td>\n",
       "      <td>NaN</td>\n",
       "      <td>NaN</td>\n",
       "      <td>NaN</td>\n",
       "      <td>NaN</td>\n",
       "      <td>NaN</td>\n",
       "    </tr>\n",
       "    <tr>\n",
       "      <th>3</th>\n",
       "      <td>NaN</td>\n",
       "      <td>NaN</td>\n",
       "      <td>NaN</td>\n",
       "      <td>NaN</td>\n",
       "      <td>NaN</td>\n",
       "      <td>NaN</td>\n",
       "    </tr>\n",
       "    <tr>\n",
       "      <th>4</th>\n",
       "      <td>NaN</td>\n",
       "      <td>NaN</td>\n",
       "      <td>NaN</td>\n",
       "      <td>NaN</td>\n",
       "      <td>NaN</td>\n",
       "      <td>NaN</td>\n",
       "    </tr>\n",
       "    <tr>\n",
       "      <th>5</th>\n",
       "      <td>NaN</td>\n",
       "      <td>NaN</td>\n",
       "      <td>NaN</td>\n",
       "      <td>NaN</td>\n",
       "      <td>NaN</td>\n",
       "      <td>NaN</td>\n",
       "    </tr>\n",
       "  </tbody>\n",
       "</table>\n",
       "</div>"
      ],
      "text/plain": [
       "   Statistic  1629–1812  1813–1870  1871–1945  1945–2015  1629-2015\n",
       "0        NaN        NaN        NaN        NaN        NaN        NaN\n",
       "1        NaN        NaN        NaN        NaN        NaN        NaN\n",
       "2        NaN        NaN        NaN        NaN        NaN        NaN\n",
       "3        NaN        NaN        NaN        NaN        NaN        NaN\n",
       "4        NaN        NaN        NaN        NaN        NaN        NaN\n",
       "5        NaN        NaN        NaN        NaN        NaN        NaN"
      ]
     },
     "execution_count": 151,
     "metadata": {},
     "output_type": "execute_result"
    }
   ],
   "source": [
    "# Create the Table for Descriptive Statistics\n",
    "subsample_list=['Statistic','1629–1812','1813–1870','1871–1945','1945–2015','1629-2015']\n",
    "\n",
    "\n",
    "# Student Task - create a [6x6] table using your nans function\n",
    "table_empty = nans([6,6])\n",
    "\n",
    "desc_stat_table = pd.DataFrame(table_empty,columns=subsample_list)\n",
    "desc_stat_table"
   ]
  },
  {
   "cell_type": "code",
   "execution_count": 152,
   "metadata": {},
   "outputs": [
    {
     "data": {
      "text/html": [
       "<div>\n",
       "<style scoped>\n",
       "    .dataframe tbody tr th:only-of-type {\n",
       "        vertical-align: middle;\n",
       "    }\n",
       "\n",
       "    .dataframe tbody tr th {\n",
       "        vertical-align: top;\n",
       "    }\n",
       "\n",
       "    .dataframe thead th {\n",
       "        text-align: right;\n",
       "    }\n",
       "</style>\n",
       "<table border=\"1\" class=\"dataframe\">\n",
       "  <thead>\n",
       "    <tr style=\"text-align: right;\">\n",
       "      <th></th>\n",
       "      <th>Statistic</th>\n",
       "      <th>1629–1812</th>\n",
       "      <th>1813–1870</th>\n",
       "      <th>1871–1945</th>\n",
       "      <th>1945–2015</th>\n",
       "      <th>1629-2015</th>\n",
       "    </tr>\n",
       "  </thead>\n",
       "  <tbody>\n",
       "    <tr>\n",
       "      <th>0</th>\n",
       "      <td>Real Mean Dividend Yield</td>\n",
       "      <td>NaN</td>\n",
       "      <td>NaN</td>\n",
       "      <td>NaN</td>\n",
       "      <td>NaN</td>\n",
       "      <td>NaN</td>\n",
       "    </tr>\n",
       "    <tr>\n",
       "      <th>1</th>\n",
       "      <td>Mean Inflation</td>\n",
       "      <td>NaN</td>\n",
       "      <td>NaN</td>\n",
       "      <td>NaN</td>\n",
       "      <td>NaN</td>\n",
       "      <td>NaN</td>\n",
       "    </tr>\n",
       "    <tr>\n",
       "      <th>2</th>\n",
       "      <td>Nominal Arithmetic Return</td>\n",
       "      <td>NaN</td>\n",
       "      <td>NaN</td>\n",
       "      <td>NaN</td>\n",
       "      <td>NaN</td>\n",
       "      <td>NaN</td>\n",
       "    </tr>\n",
       "    <tr>\n",
       "      <th>3</th>\n",
       "      <td>Nominal Standard Deviation of Returns</td>\n",
       "      <td>NaN</td>\n",
       "      <td>NaN</td>\n",
       "      <td>NaN</td>\n",
       "      <td>NaN</td>\n",
       "      <td>NaN</td>\n",
       "    </tr>\n",
       "    <tr>\n",
       "      <th>4</th>\n",
       "      <td>Nominal Risk-free rate</td>\n",
       "      <td>NaN</td>\n",
       "      <td>NaN</td>\n",
       "      <td>NaN</td>\n",
       "      <td>NaN</td>\n",
       "      <td>NaN</td>\n",
       "    </tr>\n",
       "    <tr>\n",
       "      <th>5</th>\n",
       "      <td>Nominal Sharpe Ratio</td>\n",
       "      <td>NaN</td>\n",
       "      <td>NaN</td>\n",
       "      <td>NaN</td>\n",
       "      <td>NaN</td>\n",
       "      <td>NaN</td>\n",
       "    </tr>\n",
       "  </tbody>\n",
       "</table>\n",
       "</div>"
      ],
      "text/plain": [
       "                               Statistic  1629–1812  1813–1870  1871–1945  \\\n",
       "0               Real Mean Dividend Yield        NaN        NaN        NaN   \n",
       "1                         Mean Inflation        NaN        NaN        NaN   \n",
       "2              Nominal Arithmetic Return        NaN        NaN        NaN   \n",
       "3  Nominal Standard Deviation of Returns        NaN        NaN        NaN   \n",
       "4                 Nominal Risk-free rate        NaN        NaN        NaN   \n",
       "5                   Nominal Sharpe Ratio        NaN        NaN        NaN   \n",
       "\n",
       "   1945–2015  1629-2015  \n",
       "0        NaN        NaN  \n",
       "1        NaN        NaN  \n",
       "2        NaN        NaN  \n",
       "3        NaN        NaN  \n",
       "4        NaN        NaN  \n",
       "5        NaN        NaN  "
      ]
     },
     "execution_count": 152,
     "metadata": {},
     "output_type": "execute_result"
    }
   ],
   "source": [
    "#desc_stat_table['Statistic'][0]= 'Real Mean Dividend Yield'\n",
    "desc_stat_table.iloc[0, 0]= 'Real Mean Dividend Yield'\n",
    "desc_stat_table.iloc[1, 0]= 'Mean Inflation'\n",
    "desc_stat_table.iloc[2, 0]= 'Nominal Arithmetic Return'\n",
    "desc_stat_table.iloc[3, 0]= 'Nominal Standard Deviation of Returns'\n",
    "desc_stat_table.iloc[4, 0]= 'Nominal Risk-free rate'\n",
    "desc_stat_table.iloc[5, 0]= 'Nominal Sharpe Ratio'\n",
    "desc_stat_table"
   ]
  },
  {
   "cell_type": "code",
   "execution_count": 153,
   "metadata": {},
   "outputs": [
    {
     "name": "stdout",
     "output_type": "stream",
     "text": [
      "2\n",
      "3\n",
      "4\n",
      "5\n",
      "6\n"
     ]
    },
    {
     "data": {
      "text/html": [
       "<div>\n",
       "<style scoped>\n",
       "    .dataframe tbody tr th:only-of-type {\n",
       "        vertical-align: middle;\n",
       "    }\n",
       "\n",
       "    .dataframe tbody tr th {\n",
       "        vertical-align: top;\n",
       "    }\n",
       "\n",
       "    .dataframe thead th {\n",
       "        text-align: right;\n",
       "    }\n",
       "</style>\n",
       "<table border=\"1\" class=\"dataframe\">\n",
       "  <thead>\n",
       "    <tr style=\"text-align: right;\">\n",
       "      <th></th>\n",
       "      <th>Statistic</th>\n",
       "      <th>1629–1812</th>\n",
       "      <th>1813–1870</th>\n",
       "      <th>1871–1945</th>\n",
       "      <th>1945–2015</th>\n",
       "      <th>1629-2015</th>\n",
       "    </tr>\n",
       "  </thead>\n",
       "  <tbody>\n",
       "    <tr>\n",
       "      <th>0</th>\n",
       "      <td>Real Mean Dividend Yield</td>\n",
       "      <td>NaN</td>\n",
       "      <td>0.043</td>\n",
       "      <td>0.053</td>\n",
       "      <td>0.034</td>\n",
       "      <td>NaN</td>\n",
       "    </tr>\n",
       "    <tr>\n",
       "      <th>1</th>\n",
       "      <td>Mean Inflation</td>\n",
       "      <td>0.005</td>\n",
       "      <td>0.002</td>\n",
       "      <td>0.007</td>\n",
       "      <td>0.038</td>\n",
       "      <td>0.011</td>\n",
       "    </tr>\n",
       "    <tr>\n",
       "      <th>2</th>\n",
       "      <td>Nominal Arithmetic Return</td>\n",
       "      <td>NaN</td>\n",
       "      <td>0.025</td>\n",
       "      <td>0.037</td>\n",
       "      <td>0.084</td>\n",
       "      <td>NaN</td>\n",
       "    </tr>\n",
       "    <tr>\n",
       "      <th>3</th>\n",
       "      <td>Nominal Standard Deviation of Returns</td>\n",
       "      <td>NaN</td>\n",
       "      <td>0.025</td>\n",
       "      <td>0.037</td>\n",
       "      <td>0.084</td>\n",
       "      <td>NaN</td>\n",
       "    </tr>\n",
       "    <tr>\n",
       "      <th>4</th>\n",
       "      <td>Nominal Risk-free rate</td>\n",
       "      <td>NaN</td>\n",
       "      <td>NaN</td>\n",
       "      <td>NaN</td>\n",
       "      <td>NaN</td>\n",
       "      <td>NaN</td>\n",
       "    </tr>\n",
       "    <tr>\n",
       "      <th>5</th>\n",
       "      <td>Nominal Sharpe Ratio</td>\n",
       "      <td>NaN</td>\n",
       "      <td>NaN</td>\n",
       "      <td>NaN</td>\n",
       "      <td>NaN</td>\n",
       "      <td>NaN</td>\n",
       "    </tr>\n",
       "  </tbody>\n",
       "</table>\n",
       "</div>"
      ],
      "text/plain": [
       "                               Statistic  1629–1812  1813–1870  1871–1945  \\\n",
       "0               Real Mean Dividend Yield        NaN      0.043      0.053   \n",
       "1                         Mean Inflation      0.005      0.002      0.007   \n",
       "2              Nominal Arithmetic Return        NaN      0.025      0.037   \n",
       "3  Nominal Standard Deviation of Returns        NaN      0.025      0.037   \n",
       "4                 Nominal Risk-free rate        NaN        NaN        NaN   \n",
       "5                   Nominal Sharpe Ratio        NaN        NaN        NaN   \n",
       "\n",
       "   1945–2015  1629-2015  \n",
       "0      0.034        NaN  \n",
       "1      0.038      0.011  \n",
       "2      0.084        NaN  \n",
       "3      0.084        NaN  \n",
       "4        NaN        NaN  \n",
       "5        NaN        NaN  "
      ]
     },
     "execution_count": 153,
     "metadata": {},
     "output_type": "execute_result"
    }
   ],
   "source": [
    "#student task - fill you nxn table using automatic commands for averages, standard eviations, etc.\n",
    "#ilog: um etwas hineinzuschreiben\n",
    "\n",
    "samples = [sample_1,sample_2,sample_3,sample_4,sample_5]\n",
    "a=1\n",
    "\n",
    "for b in samples:\n",
    "    desc_stat_table.iloc[0, a] = round(np.average(b['DP_Real']),3)\n",
    "    desc_stat_table.iloc[1, a] = round(np.average(b['Inflation']),3)\n",
    "    desc_stat_table.iloc[2, a] = round(np.average(b['Return_Nominal']),3)\n",
    "    desc_stat_table.iloc[3, a] = round(np.average(b['Return_Nominal']),3)\n",
    "    #desc_stat_table.iloc[4, a] = round(np.average(b['Risk_free_r'],3)\n",
    "    #desc_stat_table.iloc[5, a] = round(np.average(b[('Return_Nominal'- 'Risk_free_r')/'Inflation'],3)\n",
    "                                                  \n",
    "    a=a+1\n",
    "    print(a)\n",
    "\n",
    "desc_stat_table\n",
    "    "
   ]
  },
  {
   "cell_type": "code",
   "execution_count": 154,
   "metadata": {},
   "outputs": [],
   "source": [
    "#export this table to excel\n",
    "desc_stat_table.to_excel(\"Four_Cent_Descriptive_Stats_20_03_2021.xls\")"
   ]
  },
  {
   "cell_type": "code",
   "execution_count": 155,
   "metadata": {},
   "outputs": [
    {
     "ename": "TypeError",
     "evalue": "unsupported operand type(s) for /: 'str' and 'str'",
     "output_type": "error",
     "traceback": [
      "\u001b[1;31m-----------------------------------------------------------------\u001b[0m",
      "\u001b[1;31mTypeError\u001b[0m                       Traceback (most recent call last)",
      "\u001b[1;32m<ipython-input-155-b50e37ae664d>\u001b[0m in \u001b[0;36m<module>\u001b[1;34m\u001b[0m\n\u001b[1;32m----> 1\u001b[1;33m \u001b[0mround\u001b[0m\u001b[1;33m(\u001b[0m\u001b[0mnp\u001b[0m\u001b[1;33m.\u001b[0m\u001b[0maverage\u001b[0m\u001b[1;33m(\u001b[0m\u001b[1;34m'Return_Nominal'\u001b[0m\u001b[1;33m/\u001b[0m\u001b[1;34m'Risk_free_r'\u001b[0m\u001b[1;33m)\u001b[0m\u001b[1;33m,\u001b[0m\u001b[1;36m3\u001b[0m\u001b[1;33m)\u001b[0m\u001b[1;33m\u001b[0m\u001b[1;33m\u001b[0m\u001b[0m\n\u001b[0m",
      "\u001b[1;31mTypeError\u001b[0m: unsupported operand type(s) for /: 'str' and 'str'"
     ]
    }
   ],
   "source": [
    "round(np.average('Return_Nominal'/'Risk_free_r'),3)"
   ]
  },
  {
   "cell_type": "code",
   "execution_count": null,
   "metadata": {},
   "outputs": [],
   "source": []
  },
  {
   "cell_type": "markdown",
   "metadata": {},
   "source": [
    "# Normality Tests"
   ]
  },
  {
   "cell_type": "code",
   "execution_count": 156,
   "metadata": {},
   "outputs": [
    {
     "name": "stdout",
     "output_type": "stream",
     "text": [
      "histogramPrice_Nominal\n",
      "histogramDividend_Nominal\n",
      "histogramPrice_Real\n",
      "histogramDividend_Real\n",
      "histogramCPI\n",
      "histogramRecession\n",
      "histogramDiv_Earnings\n",
      "histogramRisk_free_r\n",
      "histogramCountry\n",
      "histogramPrice_Nominal_Normalized\n",
      "histogramPrice_Real_Normalized\n",
      "histogramReturn_Nominal\n",
      "histogramReturn_Real\n",
      "histogramDP_Nominal\n",
      "histogramDP_Real\n",
      "histogramInflation\n"
     ]
    }
   ],
   "source": [
    "#Histograms for each individual series  \n",
    "\n",
    "# first create a dataframe\n",
    "\n",
    "df=pd.DataFrame(data)\n",
    "df.dropna(axis='rows',inplace=True)\n",
    "\n",
    "for col in df.iteritems(): \n",
    "    print('histogram'+col[0])\n",
    "    fig, ax = plt.subplots()\n",
    "    indicator=df[col[0]]\n",
    "    ax.hist(indicator, alpha=0.9, color='blue',bins=20)\n",
    "    plt.title(col[0])\n",
    "    plt.savefig('Charts\\Hist_'+col[0]+'.png')\n",
    "    plt.close()\n",
    "    \n"
   ]
  },
  {
   "cell_type": "code",
   "execution_count": 157,
   "metadata": {},
   "outputs": [
    {
     "data": {
      "image/png": "[encoded data removed]",
      "text/plain": [
       "<Figure size 432x288 with 1 Axes>"
      ]
     },
     "execution_count": 157,
     "metadata": {},
     "output_type": "execute_result"
    },
    {
     "data": {
      "image/png": "[encoded data removed]",
      "text/plain": [
       "<Figure size 432x288 with 1 Axes>"
      ]
     },
     "metadata": {
      "needs_background": "light"
     },
     "output_type": "display_data"
    }
   ],
   "source": [
    "#Q-Q Plot for Inflation - Zusatz\n",
    "\n",
    "import statsmodels.api as sm\n",
    "import pylab\n",
    "import statistics \n",
    "\n",
    "Inflation=df['Inflation']\n",
    "\n",
    "mean1=statistics.mean(Inflation) \n",
    "st_dev1=statistics.stdev(Inflation)\n",
    "obs_count1=len(Inflation)\n",
    "\n",
    "sm.qqplot(Inflation, loc = mean1, scale = st_dev1, line='s')"
   ]
  },
  {
   "cell_type": "code",
   "execution_count": 158,
   "metadata": {},
   "outputs": [
    {
     "data": {
      "image/png": "[encoded data removed]",
      "text/plain": [
       "<Figure size 432x288 with 1 Axes>"
      ]
     },
     "execution_count": 158,
     "metadata": {},
     "output_type": "execute_result"
    },
    {
     "data": {
      "image/png": "[encoded data removed]",
      "text/plain": [
       "<Figure size 432x288 with 1 Axes>"
      ]
     },
     "metadata": {
      "needs_background": "light"
     },
     "output_type": "display_data"
    }
   ],
   "source": [
    "#Q-Q Plot for CPI\n",
    "import statsmodels.api as sm\n",
    "import pylab\n",
    "import statistics \n",
    "\n",
    "cpi=df['CPI']\n",
    "\n",
    "mean1=statistics.mean(cpi) \n",
    "st_dev1=statistics.stdev(cpi)\n",
    "obs_count1=len(cpi)\n",
    "\n",
    "sm.qqplot(cpi, loc = mean1, scale = st_dev1, line='s')"
   ]
  },
  {
   "cell_type": "code",
   "execution_count": 159,
   "metadata": {},
   "outputs": [
    {
     "data": {
      "image/png": "[encoded data removed]",
      "text/plain": [
       "<Figure size 432x288 with 1 Axes>"
      ]
     },
     "metadata": {
      "needs_background": "light"
     },
     "output_type": "display_data"
    }
   ],
   "source": [
    "#boxplot CPI\n",
    "boxplot1=df.boxplot(column=['CPI'])\n",
    "plt.show()\n"
   ]
  },
  {
   "cell_type": "code",
   "execution_count": 160,
   "metadata": {},
   "outputs": [
    {
     "name": "stdout",
     "output_type": "stream",
     "text": [
      "p-value for Shapiro-Wilk: \n",
      "1.3323985469625155e-13\n",
      "Sample does not look Gaussian (reject H0)\n"
     ]
    }
   ],
   "source": [
    "#Shapiro-Wilk Normality Test\n",
    "\n",
    "stat,p=sp.stats.shapiro(cpi)\n",
    "\n",
    "print(\"p-value for Shapiro-Wilk: \")\n",
    "print(p)\n",
    "\n",
    "alpha = 0.05\n",
    "if p > alpha:\n",
    "\tprint('Sample looks Gaussian (fail to reject H0)')\n",
    "else:\n",
    "\tprint('Sample does not look Gaussian (reject H0)')"
   ]
  },
  {
   "cell_type": "code",
   "execution_count": 161,
   "metadata": {},
   "outputs": [],
   "source": [
    "# P ist klein, wird rejected"
   ]
  },
  {
   "cell_type": "code",
   "execution_count": 162,
   "metadata": {},
   "outputs": [],
   "source": [
    "# Student Task \n",
    "# Create a QQ chart for inflation"
   ]
  },
  {
   "cell_type": "code",
   "execution_count": 163,
   "metadata": {},
   "outputs": [
    {
     "data": {
      "image/png": "[encoded data removed]",
      "text/plain": [
       "<Figure size 432x288 with 1 Axes>"
      ]
     },
     "execution_count": 163,
     "metadata": {},
     "output_type": "execute_result"
    },
    {
     "data": {
      "image/png": "[encoded data removed]",
      "text/plain": [
       "<Figure size 432x288 with 1 Axes>"
      ]
     },
     "metadata": {
      "needs_background": "light"
     },
     "output_type": "display_data"
    }
   ],
   "source": [
    "#Q-Q Plot for Inflation\n",
    "\n",
    "import statsmodels.api as sm\n",
    "import pylab\n",
    "import statistics \n",
    "\n",
    "Inflation=df['Inflation']\n",
    "\n",
    "mean1=statistics.mean(Inflation) \n",
    "st_dev1=statistics.stdev(Inflation)\n",
    "obs_count1=len(Inflation)\n",
    "\n",
    "sm.qqplot(Inflation, loc = mean1, scale = st_dev1, line='s')"
   ]
  },
  {
   "cell_type": "code",
   "execution_count": 164,
   "metadata": {},
   "outputs": [
    {
     "name": "stdout",
     "output_type": "stream",
     "text": [
      "p-value for Shapiro-Wilk: \n",
      "2.1075011957805145e-08\n",
      "Sample does not look Gaussian (reject H0)\n"
     ]
    }
   ],
   "source": [
    "# Student Task \n",
    "# Calculate the Shapiro-Wilk for inflation based on the procedure for CPI\n",
    "stat,p=sp.stats.shapiro(Inflation)\n",
    "\n",
    "print(\"p-value for Shapiro-Wilk: \")\n",
    "print(p)\n",
    "\n",
    "alpha = 0.05\n",
    "if p > alpha:\n",
    "\tprint('Sample looks Gaussian (fail to reject H0)')\n",
    "else:\n",
    "\tprint('Sample does not look Gaussian (reject H0)')"
   ]
  },
  {
   "cell_type": "code",
   "execution_count": 165,
   "metadata": {},
   "outputs": [
    {
     "data": {
      "image/png": "[encoded data removed]",
      "text/plain": [
       "<Figure size 432x288 with 1 Axes>"
      ]
     },
     "metadata": {
      "needs_background": "light"
     },
     "output_type": "display_data"
    }
   ],
   "source": [
    "# Student Task \n",
    "# create a box plot for inflation\n",
    "boxplot1=df.boxplot(column=['Inflation'])\n",
    "plt.show()"
   ]
  },
  {
   "cell_type": "code",
   "execution_count": null,
   "metadata": {},
   "outputs": [],
   "source": [
    "\n"
   ]
  },
  {
   "cell_type": "markdown",
   "metadata": {},
   "source": [
    "# Student Task - Kurtosis, Skewness and JB Test"
   ]
  },
  {
   "cell_type": "code",
   "execution_count": 166,
   "metadata": {},
   "outputs": [],
   "source": [
    "import matplotlib.pyplot as plt\n",
    "import numpy as np\n",
    "import scipy.stats as stats"
   ]
  },
  {
   "cell_type": "code",
   "execution_count": 167,
   "metadata": {},
   "outputs": [],
   "source": [
    "#Use this reference: https://github.com/quantopian/research_public/blob/master/notebooks/lectures/Statistical_Moments/notebook.ipynb"
   ]
  },
  {
   "cell_type": "code",
   "execution_count": 168,
   "metadata": {},
   "outputs": [
    {
     "ename": "SyntaxError",
     "evalue": "invalid syntax (<ipython-input-168-7f971e3b1bc7>, line 4)",
     "output_type": "error",
     "traceback": [
      "\u001b[1;36m  File \u001b[1;32m\"<ipython-input-168-7f971e3b1bc7>\"\u001b[1;36m, line \u001b[1;32m4\u001b[0m\n\u001b[1;33m    print 'Excess kurtosis of leptokurtic distribution:', (stats.laplace.stats(moments='CPI'))\u001b[0m\n\u001b[1;37m          ^\u001b[0m\n\u001b[1;31mSyntaxError\u001b[0m\u001b[1;31m:\u001b[0m invalid syntax\n"
     ]
    }
   ],
   "source": [
    "#calculate mean, median and skewness, kurtosis for CPI\n",
    "\n",
    "plt.plot(xs,stats.laplace.pdf(xs), label='CPI')\n",
    "print 'Excess kurtosis of leptokurtic distribution:', (stats.laplace.stats(moments='CPI'))\n",
    "plt.plot(xs, normal, label='CPI')\n",
    "print 'Excess kurtosis of mesokurtic distribution:', (stats.norm.stats(moments='CPI'))\n",
    "plt.plot(xs,stats.cosine.pdf(xs), label='CPI')\n",
    "print 'Excess kurtosis of platykurtic distribution:', (stats.cosine.stats(moments='CPI'))\n",
    "plt.legend();"
   ]
  },
  {
   "cell_type": "code",
   "execution_count": 169,
   "metadata": {},
   "outputs": [],
   "source": [
    "#calculate mean, median and skewness, kurtosis for Inflation"
   ]
  },
  {
   "cell_type": "code",
   "execution_count": 170,
   "metadata": {},
   "outputs": [
    {
     "name": "stdout",
     "output_type": "stream",
     "text": [
      "15\n"
     ]
    },
    {
     "ename": "TypeError",
     "evalue": "unsupported operand type(s) for /: 'NoneType' and 'int'",
     "output_type": "error",
     "traceback": [
      "\u001b[1;31m-----------------------------------------------------------------\u001b[0m",
      "\u001b[1;31mTypeError\u001b[0m                       Traceback (most recent call last)",
      "\u001b[1;32m<ipython-input-170-05e5de24da7a>\u001b[0m in \u001b[0;36m<module>\u001b[1;34m\u001b[0m\n\u001b[0;32m     16\u001b[0m \u001b[0mnum_significant\u001b[0m \u001b[1;33m=\u001b[0m \u001b[0mlen\u001b[0m\u001b[1;33m(\u001b[0m\u001b[0mpvalues\u001b[0m\u001b[1;33m[\u001b[0m\u001b[0mpvalues\u001b[0m \u001b[1;33m<\u001b[0m \u001b[1;36m0.05\u001b[0m\u001b[1;33m]\u001b[0m\u001b[1;33m)\u001b[0m\u001b[1;33m\u001b[0m\u001b[1;33m\u001b[0m\u001b[0m\n\u001b[0;32m     17\u001b[0m \u001b[1;33m\u001b[0m\u001b[0m\n\u001b[1;32m---> 18\u001b[1;33m \u001b[0mprint\u001b[0m \u001b[1;33m(\u001b[0m\u001b[0mnum_significant\u001b[0m\u001b[1;33m)\u001b[0m \u001b[1;33m/\u001b[0m \u001b[0mN\u001b[0m\u001b[1;33m\u001b[0m\u001b[1;33m\u001b[0m\u001b[0m\n\u001b[0m",
      "\u001b[1;31mTypeError\u001b[0m: unsupported operand type(s) for /: 'NoneType' and 'int'"
     ]
    }
   ],
   "source": [
    "#calculate JB statistic for CPI\n",
    "from statsmodels.stats.stattools import jarque_bera\n",
    "\n",
    "N = 387\n",
    "M = 1000\n",
    "\n",
    "pvalues = np.ndarray((N))\n",
    "\n",
    "for i in range(N):\n",
    "    # Draw M samples from a normal distribution \n",
    "    X = np.random.normal(0, 1, M);\n",
    "    _, pvalue, _, _ = jarque_bera(X)\n",
    "    pvalues[i] = pvalue\n",
    "    \n",
    "# count number of pvalues below our default 0.05 cutoff\n",
    "num_significant = len(pvalues[pvalues < 0.05])\n",
    "\n",
    "print (num_significant) / N"
   ]
  },
  {
   "cell_type": "code",
   "execution_count": null,
   "metadata": {
    "collapsed": true
   },
   "outputs": [],
   "source": [
    "#calculate JB statistic for Inflation"
   ]
  },
  {
   "cell_type": "code",
   "execution_count": null,
   "metadata": {
    "collapsed": true
   },
   "outputs": [],
   "source": [
    "pricing = get_pricing('', fields='price', start_date=start, end_date=end)\n",
    "returns = pricing.pct_change()[1:]\n",
    "\n",
    "print 'Skew:', stats.skew(returns)\n",
    "print 'Mean:', np.mean(returns)\n",
    "print 'Median:', np.median(returns)\n",
    "\n",
    "plt.hist(returns, 30);"
   ]
  },
  {
   "cell_type": "code",
   "execution_count": null,
   "metadata": {
    "collapsed": true
   },
   "outputs": [],
   "source": []
  },
  {
   "cell_type": "code",
   "execution_count": null,
   "metadata": {
    "collapsed": true
   },
   "outputs": [],
   "source": []
  },
  {
   "cell_type": "code",
   "execution_count": null,
   "metadata": {
    "collapsed": true
   },
   "outputs": [],
   "source": []
  },
  {
   "cell_type": "code",
   "execution_count": null,
   "metadata": {
    "collapsed": true
   },
   "outputs": [],
   "source": []
  },
  {
   "cell_type": "code",
   "execution_count": null,
   "metadata": {
    "collapsed": true
   },
   "outputs": [],
   "source": []
  },
  {
   "cell_type": "code",
   "execution_count": null,
   "metadata": {
    "collapsed": true
   },
   "outputs": [],
   "source": []
  },
  {
   "cell_type": "code",
   "execution_count": null,
   "metadata": {
    "collapsed": true
   },
   "outputs": [],
   "source": []
  },
  {
   "cell_type": "markdown",
   "metadata": {},
   "source": []
  },
  {
   "cell_type": "code",
   "execution_count": null,
   "metadata": {
    "collapsed": true
   },
   "outputs": [],
   "source": []
  },
  {
   "cell_type": "code",
   "execution_count": null,
   "metadata": {
    "collapsed": true
   },
   "outputs": [],
   "source": []
  },
  {
   "cell_type": "code",
   "execution_count": null,
   "metadata": {
    "collapsed": true
   },
   "outputs": [],
   "source": []
  },
  {
   "cell_type": "code",
   "execution_count": null,
   "metadata": {
    "collapsed": true
   },
   "outputs": [],
   "source": []
  },
  {
   "cell_type": "code",
   "execution_count": null,
   "metadata": {
    "collapsed": true
   },
   "outputs": [],
   "source": []
  },
  {
   "cell_type": "code",
   "execution_count": null,
   "metadata": {
    "collapsed": true
   },
   "outputs": [],
   "source": []
  },
  {
   "cell_type": "code",
   "execution_count": null,
   "metadata": {
    "collapsed": true
   },
   "outputs": [],
   "source": []
  },
  {
   "cell_type": "code",
   "execution_count": null,
   "metadata": {
    "collapsed": true
   },
   "outputs": [],
   "source": []
  },
  {
   "cell_type": "code",
   "execution_count": null,
   "metadata": {
    "collapsed": true
   },
   "outputs": [],
   "source": []
  },
  {
   "cell_type": "code",
   "execution_count": null,
   "metadata": {
    "collapsed": true
   },
   "outputs": [],
   "source": [
    "\n"
   ]
  },
  {
   "cell_type": "code",
   "execution_count": null,
   "metadata": {
    "collapsed": true
   },
   "outputs": [],
   "source": []
  },
  {
   "cell_type": "code",
   "execution_count": null,
   "metadata": {
    "collapsed": true
   },
   "outputs": [],
   "source": []
  },
  {
   "cell_type": "code",
   "execution_count": null,
   "metadata": {
    "collapsed": true
   },
   "outputs": [],
   "source": []
  },
  {
   "cell_type": "code",
   "execution_count": null,
   "metadata": {
    "collapsed": true
   },
   "outputs": [],
   "source": []
  },
  {
   "cell_type": "code",
   "execution_count": null,
   "metadata": {
    "collapsed": true
   },
   "outputs": [],
   "source": []
  },
  {
   "cell_type": "code",
   "execution_count": null,
   "metadata": {
    "collapsed": true
   },
   "outputs": [],
   "source": []
  },
  {
   "cell_type": "code",
   "execution_count": null,
   "metadata": {
    "collapsed": true
   },
   "outputs": [],
   "source": []
  },
  {
   "cell_type": "code",
   "execution_count": null,
   "metadata": {
    "collapsed": true
   },
   "outputs": [],
   "source": []
  }
 ],
 "metadata": {
  "celltoolbar": "Raw Cell Format",
  "kernelspec": {
   "display_name": "Python 3",
   "language": "python",
   "name": "python3"
  },
  "language_info": {
   "codemirror_mode": {
    "name": "ipython",
    "version": 3
   },
   "file_extension": ".py",
   "mimetype": "text/x-python",
   "name": "python",
   "nbconvert_exporter": "python",
   "pygments_lexer": "ipython3",
   "version": "3.8.3"
  }
 },
 "nbformat": 4,
 "nbformat_minor": 2
}
